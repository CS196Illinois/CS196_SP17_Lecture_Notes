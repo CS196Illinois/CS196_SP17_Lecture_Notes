{
 "cells": [
  {
   "cell_type": "markdown",
   "metadata": {},
   "source": [
    "## Dictionaries\n",
    "\n",
    "Dictionaries. also known as hashmaps in other languages, are one of the most important data structures in computer science. \n",
    "\n",
    "Dictionaries store key-value pairs. Unlike lists, dictionaries are unordered, meaning that you cannot access elements by their index like in lists. Instead, to find a value, you need to access it using it's key.\n",
    "\n",
    "Dictionaries can have multiple types for its keys and its values"
   ]
  },
  {
   "cell_type": "markdown",
   "metadata": {},
   "source": [
    "### Let us look at some basic syntax:"
   ]
  },
  {
   "cell_type": "code",
   "execution_count": 1,
   "metadata": {
    "collapsed": true
   },
   "outputs": [],
   "source": [
    "# Creating a dictionary\n",
    "my_dict = {}"
   ]
  },
  {
   "cell_type": "code",
   "execution_count": 2,
   "metadata": {
    "collapsed": true
   },
   "outputs": [],
   "source": [
    "# Adding a key-value pair to my_dict\n",
    "my_dict['key'] = 'value'"
   ]
  },
  {
   "cell_type": "code",
   "execution_count": 3,
   "metadata": {
    "collapsed": true
   },
   "outputs": [],
   "source": [
    "# Alternatively,\n",
    "my_dict = {'hello': 'world', 1:True}"
   ]
  },
  {
   "cell_type": "code",
   "execution_count": 4,
   "metadata": {
    "collapsed": false
   },
   "outputs": [
    {
     "data": {
      "text/plain": [
       "'world'"
      ]
     },
     "execution_count": 4,
     "metadata": {},
     "output_type": "execute_result"
    }
   ],
   "source": [
    "my_dict['hello']"
   ]
  },
  {
   "cell_type": "code",
   "execution_count": 5,
   "metadata": {
    "collapsed": false
   },
   "outputs": [
    {
     "data": {
      "text/plain": [
       "True"
      ]
     },
     "execution_count": 5,
     "metadata": {},
     "output_type": "execute_result"
    }
   ],
   "source": [
    "#Checking if a key/value is in a dictionary:\n",
    "1 in my_dict"
   ]
  },
  {
   "cell_type": "code",
   "execution_count": 6,
   "metadata": {
    "collapsed": false
   },
   "outputs": [
    {
     "name": "stdout",
     "output_type": "stream",
     "text": [
      "the key 'hello' is in my_dict\n"
     ]
    }
   ],
   "source": [
    "#Checking if a key is in a dictionary:\n",
    "if 'hello' in my_dict:\n",
    "        print(\"the key \\'hello\\' is in my_dict\")"
   ]
  },
  {
   "cell_type": "code",
   "execution_count": 7,
   "metadata": {
    "collapsed": false
   },
   "outputs": [
    {
     "data": {
      "text/plain": [
       "2"
      ]
     },
     "execution_count": 7,
     "metadata": {},
     "output_type": "execute_result"
    }
   ],
   "source": [
    "# How many elements are in my dictionary\n",
    "len(my_dict)"
   ]
  },
  {
   "cell_type": "code",
   "execution_count": 8,
   "metadata": {
    "collapsed": false
   },
   "outputs": [
    {
     "name": "stdout",
     "output_type": "stream",
     "text": [
      "hello : world\n",
      "1 : True\n"
     ]
    }
   ],
   "source": [
    "# Iterating over a dictionary\n",
    "for key in my_dict:\n",
    "        print( str(key) + \" : \" + str(my_dict[key]))"
   ]
  },
  {
   "cell_type": "code",
   "execution_count": 9,
   "metadata": {
    "collapsed": false
   },
   "outputs": [],
   "source": [
    "# Deleting things \n",
    "del my_dict[1]\n",
    "del my_dict['hello']"
   ]
  },
  {
   "cell_type": "code",
   "execution_count": 10,
   "metadata": {
    "collapsed": false,
    "deletable": true,
    "editable": true
   },
   "outputs": [],
   "source": [
    "# Iterating again over a dictionary to prove it's empty\n",
    "for key in my_dict:\n",
    "        print( str(key) + \" : \" + str(my_dict[key]))"
   ]
  },
  {
   "cell_type": "markdown",
   "metadata": {},
   "source": [
    "### Why are dictionaries so useful?\n",
    "\n",
    "Dictionaries are one of the most efficient data structures and thus see a lot of use. \n",
    "\n",
    "Consider this, We have an array of over 1,000,000 items and we want to search through it. We can come up with an algorithm to do so but it will be slow! For a hashmap, a key-value pair lookup happens in constant time, no matter how big the hashmap is. \n",
    "\n",
    "If you are interested in how hashmaps work, CS225 has you actually implement one :)"
   ]
  },
  {
   "cell_type": "markdown",
   "metadata": {},
   "source": [
    "### Homework Problem: Zip Dictionary\n",
    "\n",
    "Given two arrays, named keys and values, create a dictionary with keys from keys and values from values. If there are keys that are matched with more than one value, change the value linked to that key to a list of all of distinct values given by the list of values. That is, if the same key-value pair is included twice in the input, it should be included in the dictionary only once.\n",
    "\n"
   ]
  },
  {
   "cell_type": "code",
   "execution_count": 11,
   "metadata": {
    "collapsed": false
   },
   "outputs": [],
   "source": [
    "def zip_dictionary():\n",
    "    pass"
   ]
  }
 ],
 "metadata": {
  "kernelspec": {
   "display_name": "Python 3",
   "language": "python",
   "name": "python3"
  },
  "language_info": {
   "codemirror_mode": {
    "name": "ipython",
    "version": 3
   },
   "file_extension": ".py",
   "mimetype": "text/x-python",
   "name": "python",
   "nbconvert_exporter": "python",
   "pygments_lexer": "ipython3",
   "version": "3.6.0"
  }
 },
 "nbformat": 4,
 "nbformat_minor": 2
}
