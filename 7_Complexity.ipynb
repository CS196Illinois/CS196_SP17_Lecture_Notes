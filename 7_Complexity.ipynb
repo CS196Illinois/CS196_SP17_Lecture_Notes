{
 "cells": [
  {
   "cell_type": "markdown",
   "metadata": {
    "deletable": true,
    "editable": true,
    "ein.tags": [
     "worksheet-0"
    ],
    "slideshow": {
     "slide_type": "-"
    }
   },
   "source": [
    "# Algorithms #\n",
    "## Why do we need Algorithms? ##\n",
    "Algorithms is a set of instructions to have the computer do stuff. In algorithms, we attempt to make the algorithm run as fast as possible **given constraints**\n",
    "\n",
    "## Type of Constraints ##\n",
    "Here are some various topics (not all)\n",
    " * Practical Algorithms\n",
    "   * Algorithms Built for Speed\n",
    "   * Algorithms Built to Save Space\n",
    "   * Algorithms for Specific Data Structures\n",
    " * Theoretical Algorithms\n",
    "   * Algorithms for Infinite Computing Power\n",
    "   * Algorithms for Infinite Threads\n",
    "   * Algorithms with Best **Theoretical** Guarentees\n",
    " * Domain Specific\n",
    "   * Algorithms for Quantum Computing\n",
    "   * P vs NP\n",
    "   \n",
    "But wait, why isn't the algorithm with the best theoretical guarentee the fastest?\n",
    "How do we judge how good an algorithm is?\n",
    "\n"
   ]
  },
  {
   "cell_type": "markdown",
   "metadata": {
    "deletable": true,
    "editable": true,
    "ein.tags": [
     "worksheet-0"
    ],
    "slideshow": {
     "slide_type": "-"
    }
   },
   "source": [
    "## Theory vs Real World (Small Mention) ##\n",
    "When we come up with algorithms, we typically do not take advantage of hardware specific optimizations.\n",
    "1. Vectorization\n",
    " - **Simple** operations done in parallel (NOT MULTITHREADING!)\n",
    "2. Cache Performance\n",
    " - Loop Unrolling\n",
    " - Linear, more predictable algorithms perform much better\n",
    "3. Multithreading\n",
    " - Mutual Exclusivity\n",
    " - \"Embarassing Parallel\" Problems\n"
   ]
  },
  {
   "cell_type": "markdown",
   "metadata": {
    "deletable": true,
    "editable": true,
    "ein.tags": [
     "worksheet-0"
    ],
    "slideshow": {
     "slide_type": "-"
    }
   },
   "source": [
    "## How do we judge between algorithms? ##\n",
    "Running time.\n",
    "We typically use Big-O Notation to describe an algorithm's speed.\n",
    "\n",
    "Consider two algorithms A and B.\n",
    "Both of them find the maximum element of a list."
   ]
  },
  {
   "cell_type": "code",
   "execution_count": 0,
   "metadata": {
    "autoscroll": "json-false",
    "collapsed": false,
    "deletable": true,
    "editable": true,
    "ein.tags": [
     "worksheet-0"
    ],
    "slideshow": {
     "slide_type": "-"
    }
   },
   "outputs": [],
   "source": [
    "def maximum_element_slow(list):\n",
    "    # If we take one element, and compare it to all the other elements,\n",
    "    # and it is greater than all of them, we have the maximum element!\n",
    "    for i in range(len(list)):\n",
    "        is_greater_than_all = False\n",
    "        for j in range(len(list)):\n",
    "            if list[i] < list[j]:\n",
    "                is_greater_than_all = True\n",
    "\n",
    "        if is_greater_than_all:\n",
    "            return list[i]\n",
    "\n",
    "    return \"No max element :(\"\n",
    "\n",
    "def maximum_element_fast(list):\n",
    "    # Ok why not compare and swap instead?\n",
    "    # That is we greedily choose one element and swap only if the\n",
    "    # compared element is less.\n",
    "    current_max = -0xffffffff # demo only, there is an edge case\n",
    "\n",
    "    for i in range(len(list)):\n",
    "        if list[i] > current_max:\n",
    "            current_max = list[i]\n",
    "\n",
    "    if current_max == -0xffffffff:\n",
    "        return 'No max element :('\n",
    "\n",
    "    return current_max\n"
   ]
  },
  {
   "cell_type": "markdown",
   "metadata": {
    "deletable": true,
    "editable": true,
    "ein.tags": [
     "worksheet-0"
    ],
    "slideshow": {
     "slide_type": "-"
    }
   },
   "source": [
    "## Analysis of maximum_element_slow ##\n",
    "\n",
    "When we analyze algorithm, there are two ways of doing it.\n",
    "\n",
    "One is a mathematical way, where we create an equation to see how many times we call some code to process our stuff.\n",
    "\n",
    "Let's look at `maximum_element_slow` again."
   ]
  },
  {
   "cell_type": "code",
   "execution_count": 0,
   "metadata": {
    "autoscroll": "json-false",
    "collapsed": false,
    "deletable": true,
    "editable": true,
    "ein.tags": [
     "worksheet-0"
    ],
    "slideshow": {
     "slide_type": "-"
    }
   },
   "outputs": [],
   "source": [
    "def maximum_element_slow(list):\n",
    "    # If we take one element, and compare it to all the other elements,\n",
    "    # and it is greater than all of them, we have the maximum element!\n",
    "    for i in range(len(list)):             # Runs len(list) times\n",
    "        is_greater_than_all = False        # Runs len(list)*1\n",
    "        for j in range(len(list)):         # Runs len(list)*len(list)\n",
    "            if list[i] < list[j]:          # Runs len(list)*len(list)*1\n",
    "                is_greater_than_all = True # Worst case runs len(list)*len(list)*1\n",
    "\n",
    "        if is_greater_than_all:            # Runs len(list)*1 times\n",
    "            return list[i]                 # Worst case runs lens(list)*1 times\n",
    "\n",
    "    return \"No max element :(\"             # Runs 1 time"
   ]
  },
  {
   "cell_type": "markdown",
   "metadata": {
    "deletable": true,
    "editable": true,
    "ein.tags": [
     "worksheet-0"
    ],
    "slideshow": {
     "slide_type": "-"
    }
   },
   "source": [
    "It is very tedious.\n",
    "\n",
    "Let `len(list)` be `n` and `T(n)` be our equation to solve the recurrence. Then,\n",
    "\n",
    "$$T(n) = n(1 + n(1 + 1) + 1 + 1) + 1$$\n",
    "\n",
    "Which is\n",
    "\n",
    "$$T(n) = n(2n + 3) + 1$$\n",
    "$$T(n) = 2n^2 + 3n + 1$$\n",
    "\n",
    "Ok, but then you also have your computer science friends going \"Hey we can solve your homework problem in oos of two enn times!\". Does that mean they do this math in their head?\n",
    "\n",
    "# Big-O Running Time #\n",
    "Thankfully no. We actually don't need to do all this math just to get our running time.\n",
    "\n",
    "We define Big-O to be the **asympototic running time** of the algorithm. What that means in English is the \"how does my function grow as we continue to increase the data elements\".\n",
    "\n",
    "Turns out just to find the Big-O of our runtime, we need the dominant term of our equation.\n",
    "\n",
    "So our final running time for `T(n)` is `O(n^2)` time.\n",
    "\n",
    "\n",
    "# So do we actually do all the math in our head? #\n",
    "No. I actually didn't let you in the secret of how we just look at an algorithm and come up with a running time. \n",
    "\n",
    "To do that we actually look at, in the worst case, how many \"touches\" we do to our data. That is, how many items do we look at?\n",
    "\n",
    "Well turns out two for-loops with `len(list)` implies that we operate at least `n^2` things on the inside! So we can just say, hey our running time is `O(n^2)`\n",
    "\n",
    "# Isn't it a very simplistic model? #\n",
    "Yes it is, but it works suprisingly well. The one thing you need to be aware however, is the operations you are assuming are constant are actually constant.\n",
    "\n",
    "For example python's `max` function runs in `O(n)` time. Don't assume it's actually `O(1)` because it's one function call.\n",
    "\n"
   ]
  },
  {
   "cell_type": "markdown",
   "metadata": {
    "deletable": true,
    "editable": true,
    "ein.tags": [
     "worksheet-0"
    ],
    "slideshow": {
     "slide_type": "-"
    }
   },
   "source": [
    "## Exercise: Runtime of Maximum_Element_Fast ##\n",
    "What is the runtime?"
   ]
  },
  {
   "cell_type": "code",
   "execution_count": 0,
   "metadata": {
    "autoscroll": "json-false",
    "collapsed": false,
    "deletable": true,
    "editable": true,
    "ein.tags": [
     "worksheet-0"
    ],
    "slideshow": {
     "slide_type": "-"
    }
   },
   "outputs": [],
   "source": [
    "def maximum_element_fast(list):\n",
    "    # Ok why not compare and swap instead?\n",
    "    # That is we greedily choose one element and swap only if the\n",
    "    # compared element is less.\n",
    "    current_max = -0xffffffff # demo only, there is an edge case\n",
    "\n",
    "    for i in range(len(list)):\n",
    "        if list[i] > current_max:\n",
    "            current_max = list[i]\n",
    "\n",
    "    if current_max == -0xffffffff:\n",
    "        return 'No max element :('\n",
    "\n",
    "    return current_max"
   ]
  },
  {
   "cell_type": "markdown",
   "metadata": {
    "deletable": true,
    "editable": true,
    "ein.tags": [
     "worksheet-0"
    ],
    "slideshow": {
     "slide_type": "-"
    }
   },
   "source": [
    "Ok so we've talked about \"worst case\" and all, but what do they actually mean in the context of Big-O?\n",
    "\n",
    "# Algorithm Analysis #\n",
    "There are three ways to look at every algorithm.\n",
    "\n",
    "## Best Case Analysis ##\n",
    "We don't really care about best case analysis.\n",
    "\n",
    "## Average Case Analysis ##\n",
    "We kind of care about this. We usually care about this for random algorithms.\n",
    "\n",
    "## Worst Case Analysis ##\n",
    "This is typically what we care about. Note that for most random algorithms, the running time is infinity, so for random algorithms we usually don't care about that here.\n",
    "\n"
   ]
  },
  {
   "cell_type": "markdown",
   "metadata": {
    "deletable": true,
    "editable": true,
    "ein.tags": [
     "worksheet-0"
    ],
    "slideshow": {
     "slide_type": "-"
    }
   },
   "source": [
    "# Big-O Classes #\n",
    "You will do this in CS125 (near the end), CS173 and CS374.\n",
    "However, this is a skill you will use in pretty much every CS class."
   ]
  },
  {
   "cell_type": "markdown",
   "metadata": {
    "deletable": true,
    "editable": true,
    "ein.tags": [
     "worksheet-0"
    ],
    "slideshow": {
     "slide_type": "-"
    }
   },
   "source": [
    "# Recursion #\n",
    "Recursion is one of the single most powerful ideas in Computer Science.\n",
    "\n",
    "What does recursion mean? It means (recursion-1). Which means (recursion-2). Which means...\n",
    "\n",
    "Formally recursion is when a function calls itself. Why is this idea powerful?\n",
    "\n"
   ]
  },
  {
   "cell_type": "markdown",
   "metadata": {
    "deletable": true,
    "editable": true,
    "ein.tags": [
     "worksheet-0"
    ],
    "slideshow": {
     "slide_type": "-"
    }
   },
   "source": [
    "# Practical Example: Fibonnaci #\n",
    "You did fibonnacci in HW1, when we mentioned recursion was banned. The reason for it is because with recursion, you can do it in very simple code.\n"
   ]
  },
  {
   "cell_type": "code",
   "execution_count": 0,
   "metadata": {
    "autoscroll": "json-false",
    "collapsed": false,
    "deletable": true,
    "editable": true,
    "ein.tags": [
     "worksheet-0"
    ],
    "slideshow": {
     "slide_type": "-"
    }
   },
   "outputs": [],
   "source": [
    "def fib(n):\n",
    "    if n < 0:\n",
    "        return 0\n",
    "\n",
    "    if n == 1:\n",
    "        return 1\n",
    "\n",
    "    return fib(n-1) + fib(n-2)"
   ]
  },
  {
   "cell_type": "markdown",
   "metadata": {
    "deletable": true,
    "editable": true,
    "ein.tags": [
     "worksheet-0"
    ],
    "slideshow": {
     "slide_type": "-"
    }
   },
   "source": [
    "Intuitively, what recursion really does is make a smaller and smaller subproblem, until the subproblem is something we definitely know how to solve. This gives us a lot of power in terms of programming."
   ]
  },
  {
   "cell_type": "markdown",
   "metadata": {
    "deletable": true,
    "editable": true,
    "ein.tags": [
     "worksheet-0"
    ],
    "slideshow": {
     "slide_type": "-"
    }
   },
   "source": [
    "# Deriving a Recursive Algorithm #\n",
    "1. Assume that your algorithm solves a smaller subproblem.\n",
    "   - Name some arbiturary variable (or some arbiturary part of your algorithm) that can get smaller. You usually want to base your algorithm off of that.\n",
    "   - Come up with an english description of your algorithm. What is your function call, what parameters does it take, and how do the parameters identify your subproblems?\n",
    "2. Identify base cases\n",
    "   - What is a small problem that you already know the answer to?\n",
    "   - Is it the smallest possible problem?\n",
    "   \n",
    "# Example: Summing a List Recursively #\n",
    "\n",
    "## Identifying Subproblem ##\n",
    "What is a part of the algorithm that \"gets smaller\" as we sum the list?\n",
    "\n",
    "Break it down: the list gets smaller and smaller as we sum through the list (alternatively, the unsolved portion becomes smaller and smaller).\n",
    "\n",
    "So we identify our subproblem by naming an arbiturary `i`, where `i` is the current index we are solving for. That is for some arbiturary list `list`, `i` indentifies the current index `list[i..len(list)]` or `list[1..i]` both are valid solutions since **the problem is getting smaller as we solve our current step**.\n",
    "\n",
    "However, it is typically more intuitive to describe an algorithm using decreasing order, so I will use that to solve the problem.\n",
    "\n",
    "Now let's write an English Description: `sum(i)` sums a list `list` from `list[1..i]`. We can solve the sum of the entire list by calling `sum(len(list))`.\n",
    "\n",
    "## Identify the \"single step\" we need to make ##\n",
    "We need to make some decision within our subproblem. Again, we assume that a smaller problem of `sum(i-1)` gives us the solution for the smaller sublist.\n",
    "\n",
    "In this case we want to return `sum(i)`, knowing `sum(i-1)`. We can just add!\n",
    "\n",
    "\n",
    "So now we end up with the following algorithm\n",
    "\n"
   ]
  },
  {
   "cell_type": "code",
   "execution_count": 1,
   "metadata": {
    "autoscroll": "json-false",
    "collapsed": false,
    "deletable": true,
    "editable": true,
    "ein.tags": [
     "worksheet-0"
    ],
    "slideshow": {
     "slide_type": "-"
    }
   },
   "outputs": [],
   "source": [
    "def sum(i):\n",
    "    return list[i] + sum(i-1)"
   ]
  },
  {
   "cell_type": "markdown",
   "metadata": {
    "deletable": true,
    "editable": true,
    "ein.tags": [
     "worksheet-0"
    ],
    "slideshow": {
     "slide_type": "-"
    }
   },
   "source": [
    "However, notice that it won't compile because we are forgetting to define `list`. So let's modify our english description and move on.\n",
    "\n",
    "Our new english description:\n",
    "\n",
    "`sum(i, list)` sums a `list` from `list[0..i]`. We can solve the sum of the entire list by solving `sum(len(list), list)`.\n",
    "\n",
    "## Identify the Base Case ##\n",
    "Our algorithm is almost done: we now need to think about when our algorithm should terminate!\n",
    "\n",
    "Because of our subproblem, we should stop when `i==0`. So our final algorithm becomes"
   ]
  },
  {
   "cell_type": "code",
   "execution_count": 2,
   "metadata": {
    "autoscroll": "json-false",
    "collapsed": false,
    "deletable": true,
    "editable": true,
    "ein.tags": [
     "worksheet-0"
    ],
    "slideshow": {
     "slide_type": "-"
    }
   },
   "outputs": [],
   "source": [
    "def sum(i, list):\n",
    "    if i == 0:\n",
    "        return 0\n",
    "\n",
    "    return list[i] + sum(i-1, list)"
   ]
  },
  {
   "cell_type": "markdown",
   "metadata": {
    "deletable": true,
    "editable": true,
    "ein.tags": [
     "worksheet-0"
    ],
    "slideshow": {
     "slide_type": "-"
    }
   },
   "source": [
    "# Interview Questions #\n",
    "Within any of these steps, you will run into edge cases or unclear parts of the problem. In this case, ask the interviewer for clarification!\n",
    "\n",
    "1. Listen Carefully\n",
    "   - There are many details on a problem such as \"Given a sorted array...\"\n",
    "   - Your **final** solution should use all of the details in a given problem. If not, your algorithm is probably not the fastest problem\n",
    "2. Draw out an Example\n",
    "   - Draw out a physical example.\n",
    "   - Many problems have patterns and formulation that you can take advantage of\n",
    "   - Sometimes, the problem solution is well hidden in an example.\n",
    "3. Derive a Bruteforce solution\n",
    "   - Do not code yet, just state the brute force solution\n",
    "   - Typically Recursive Algorithms that might run very slow\n",
    "4. Optimize\n",
    "   - Identify redundancies.\n",
    "   - Even small `break` statements may help\n",
    "   - Would a specific data structure help?\n",
    "\t - You should always ask: Would hashmaps (dictionaries) help?\n",
    "5. Review Algorithm Before Continuing\n",
    "   - By now, you should have a good idea of what your algorithm is.\n",
    "   - Before you begin coding, take a step back: Do you have confidence in your approach?\n",
    "   - Write down what the algorithm is at a high level. Use English!\n",
    "6. Code\n",
    "   - Coding takes a long time, but make sure you code instead of focusing on your algorithm\n",
    "   - After step 5, you should be able to focus on your algorithm only.\n",
    "7. Testing\n",
    "   - Maybe you forgot an edge case. Test for a moderately large input and see what happens\n",
    "   \n",
    "Note that many people have different ideas on how to approach an actual interview. This is the most general method, and some derviation of this is what most people use to do interviews.\n",
    "\n",
    "\n"
   ]
  },
  {
   "cell_type": "markdown",
   "metadata": {
    "deletable": true,
    "editable": true,
    "ein.tags": [
     "worksheet-0"
    ],
    "slideshow": {
     "slide_type": "-"
    }
   },
   "source": [
    "# Putting it all together 1: Binary Search Algorithm #\n",
    "We will put everything together to solve the following question\n",
    "\n",
    "Given a sorted array where the elements are unique, how do we find one element in an array?\n",
    "\n"
   ]
  },
  {
   "cell_type": "markdown",
   "metadata": {
    "deletable": true,
    "editable": true,
    "ein.tags": [
     "worksheet-0"
    ],
    "slideshow": {
     "slide_type": "-"
    }
   },
   "source": [
    "# Putting it all together 2: 2 Sum Problem #\n",
    "Given an array, find whether if adding two numbers in the array gives you some number `n`.\n",
    "\n",
    "\n"
   ]
  },
  {
   "cell_type": "markdown",
   "metadata": {
    "deletable": true,
    "editable": true,
    "ein.tags": [
     "worksheet-0"
    ],
    "slideshow": {
     "slide_type": "-"
    }
   },
   "source": [
    "# Putting it all together 3: lazy trainer #"
   ]
  }
 ],
 "metadata": {
  "kernelspec": {
   "display_name": "Python 3",
   "language": "python",
   "name": "python3"
  },
  "language_info": {
   "codemirror_mode": {
    "name": "ipython",
    "version": 3
   },
   "file_extension": ".py",
   "mimetype": "text/x-python",
   "name": "python",
   "nbconvert_exporter": "python",
   "pygments_lexer": "ipython3",
   "version": "3.6.0"
  },
  "name": "Untitled.ipynb"
 },
 "nbformat": 4,
 "nbformat_minor": 2
}
