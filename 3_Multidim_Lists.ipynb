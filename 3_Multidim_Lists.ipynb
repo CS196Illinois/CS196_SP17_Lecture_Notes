{
 "cells": [
  {
   "cell_type": "markdown",
   "metadata": {},
   "source": [
    "## CS196 Week 4\n",
    "\n",
    "### 2D Arrays \n",
    "\n",
    "Recall from Week 2 that programs are ways of manipluating data. We can use programs as a way to model things in real life using data. Take for example pictures.\n",
    "\n",
    "Lists are a collection of items, but can we have a list of lists? Yes :D\n",
    "\n",
    "Multi-dimensional lists are a useful way of representing data such as pictures. Let's look at an example."
   ]
  },
  {
   "cell_type": "code",
   "execution_count": 21,
   "metadata": {
    "collapsed": true
   },
   "outputs": [],
   "source": [
    "x = [[1, 2, 3],\n",
    "     [4, 5, 6],\n",
    "     [7, 8, 9]]"
   ]
  },
  {
   "cell_type": "markdown",
   "metadata": {},
   "source": [
    "Recall that to grab an element of an list we can use square brackets x[(number)] "
   ]
  },
  {
   "cell_type": "code",
   "execution_count": 2,
   "metadata": {
    "collapsed": false
   },
   "outputs": [
    {
     "data": {
      "text/plain": [
       "[[1, 2, 3], [4, 5, 6], [7, 8, 9]]"
      ]
     },
     "execution_count": 2,
     "metadata": {},
     "output_type": "execute_result"
    }
   ],
   "source": [
    "x"
   ]
  },
  {
   "cell_type": "code",
   "execution_count": 3,
   "metadata": {
    "collapsed": false
   },
   "outputs": [
    {
     "data": {
      "text/plain": [
       "[1, 2, 3]"
      ]
     },
     "execution_count": 3,
     "metadata": {},
     "output_type": "execute_result"
    }
   ],
   "source": [
    "x[0]"
   ]
  },
  {
   "cell_type": "code",
   "execution_count": 4,
   "metadata": {
    "collapsed": false
   },
   "outputs": [
    {
     "data": {
      "text/plain": [
       "1"
      ]
     },
     "execution_count": 4,
     "metadata": {},
     "output_type": "execute_result"
    }
   ],
   "source": [
    "x[0][0]"
   ]
  },
  {
   "cell_type": "markdown",
   "metadata": {},
   "source": [
    "We've seen an example of an 2D list that I hardcoded, but with bigger 2D arrays, such as pictures, it becomes tedious to write it out. We can use our **nested for loops** from last time to create 2D lists"
   ]
  },
  {
   "cell_type": "code",
   "execution_count": 17,
   "metadata": {
    "collapsed": false
   },
   "outputs": [],
   "source": [
    "def create_2d_list():\n",
    "    my_list = []\n",
    "    count = 1\n",
    "    for x in range(0,3):\n",
    "        my_list.append([])\n",
    "        for y in range(0,3):\n",
    "            my_list[x].append(count)\n",
    "            count += 1\n",
    "\n",
    "    return my_list"
   ]
  },
  {
   "cell_type": "code",
   "execution_count": 18,
   "metadata": {
    "collapsed": false
   },
   "outputs": [
    {
     "data": {
      "text/plain": [
       "[[1, 2, 3], [4, 5, 6], [7, 8, 9]]"
      ]
     },
     "execution_count": 18,
     "metadata": {},
     "output_type": "execute_result"
    }
   ],
   "source": [
    "create_2d_list()"
   ]
  },
  {
   "cell_type": "markdown",
   "metadata": {},
   "source": [
    "If you wanted to figure out the dimensions of the 2d list, remember that the name of the list - in this case x - refers to the list containing the list and therefore the number of rows and the x[0] refers to one of the element lists, and therefore the number of columns."
   ]
  },
  {
   "cell_type": "code",
   "execution_count": 23,
   "metadata": {
    "collapsed": false
   },
   "outputs": [
    {
     "name": "stdout",
     "output_type": "stream",
     "text": [
      "Rows: 3 Cols: 3\n"
     ]
    }
   ],
   "source": [
    "rows = len(x)\n",
    "cols = len(x[0])\n",
    "\n",
    "print(\"Rows: \" + str(rows) + \" Cols: \" + str(cols))"
   ]
  },
  {
   "cell_type": "markdown",
   "metadata": {},
   "source": [
    "### Special Case: Jagged List\n",
    "\n",
    "Multidimensional lists in python do not have to be nice!\n",
    "\n",
    "A **jagged list** is a list that is not rectangular - that is the length of the columns is not consistant."
   ]
  },
  {
   "cell_type": "code",
   "execution_count": 26,
   "metadata": {
    "collapsed": true
   },
   "outputs": [],
   "source": [
    "jagged_x = [[1, 2, 3],\n",
    "     [4, 5],\n",
    "     [6],\n",
    "     [7, 8, 9]]"
   ]
  },
  {
   "cell_type": "markdown",
   "metadata": {},
   "source": [
    "### Homework Example:\n",
    "\n",
    "Matrix Transpose:\n",
    "\n",
    "A matrix transpose is defined as flipping a matrix along it's diagonal. For example\n",
    "\n",
    "    \n",
    "    1 2 3       1 4 7\n",
    "    4 5 6  -->  2 5 8\n",
    "    7 8 9       3 6 9\n",
    "\n",
    "or \n",
    "\n",
    "    1 2        1 3 5\n",
    "    3 4   -->  2 4 6\n",
    "    5 6 \n",
    "\n",
    "    "
   ]
  },
  {
   "cell_type": "code",
   "execution_count": null,
   "metadata": {
    "collapsed": true
   },
   "outputs": [],
   "source": [
    "def transpose(my_list):\n",
    "    "
   ]
  },
  {
   "cell_type": "markdown",
   "metadata": {},
   "source": [
    "### Big O\n",
    "\n",
    "Let's finish this lecture up with a little bit of intuition. How efficient are our solutions.\n",
    "\n",
    "Let's take our first homework problem - list_sum(my_list).\n",
    "\n",
    "Given n elements in my_list, what is the maximum number of cycles it will take to calculate the sum of the list?\n",
    "\n",
    "What about 2d_list_sum(my_list)\n",
    "\n",
    "Given that my_list is a 2d n x m matrix (n rows and m columns), how many elements will my algorithm need to pass over in order to calculate the sum of all elements of the matrix? What does this mean for runtime?"
   ]
  }
 ],
 "metadata": {
  "kernelspec": {
   "display_name": "Python 3",
   "language": "python",
   "name": "python3"
  },
  "language_info": {
   "codemirror_mode": {
    "name": "ipython",
    "version": 3
   },
   "file_extension": ".py",
   "mimetype": "text/x-python",
   "name": "python",
   "nbconvert_exporter": "python",
   "pygments_lexer": "ipython3",
   "version": "3.4.3"
  }
 },
 "nbformat": 4,
 "nbformat_minor": 2
}
